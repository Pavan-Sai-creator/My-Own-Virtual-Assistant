{
 "cells": [
  {
   "cell_type": "code",
   "execution_count": 2,
   "id": "77a001b4",
   "metadata": {},
   "outputs": [
    {
     "name": "stdout",
     "output_type": "stream",
     "text": [
      "Requirement already satisfied: lingualytics in c:\\users\\pavan sai.k\\anaconda3\\lib\\site-packages (0.1.3)\n",
      "Requirement already satisfied: numpy>=1.17 in c:\\users\\pavan sai.k\\anaconda3\\lib\\site-packages (from lingualytics) (1.20.1)\n",
      "Requirement already satisfied: tabulate>=0.8.7 in c:\\users\\pavan sai.k\\anaconda3\\lib\\site-packages (from lingualytics) (0.8.9)\n",
      "Requirement already satisfied: scikit-learn>=0.22 in c:\\users\\pavan sai.k\\anaconda3\\lib\\site-packages (from lingualytics) (0.24.1)\n",
      "Requirement already satisfied: torch>=1.6 in c:\\users\\pavan sai.k\\anaconda3\\lib\\site-packages (from lingualytics) (1.9.1)\n",
      "Requirement already satisfied: transformers>=3.0 in c:\\users\\pavan sai.k\\anaconda3\\lib\\site-packages (from lingualytics) (4.11.2)\n",
      "Requirement already satisfied: tqdm>=4.48.2 in c:\\users\\pavan sai.k\\anaconda3\\lib\\site-packages (from lingualytics) (4.59.0)\n",
      "Requirement already satisfied: pandas>=1.0.2 in c:\\users\\pavan sai.k\\anaconda3\\lib\\site-packages (from lingualytics) (1.2.4)\n",
      "Requirement already satisfied: texthero>=1.0 in c:\\users\\pavan sai.k\\anaconda3\\lib\\site-packages (from lingualytics) (1.1.0)\n",
      "Requirement already satisfied: pytz>=2017.3 in c:\\users\\pavan sai.k\\anaconda3\\lib\\site-packages (from pandas>=1.0.2->lingualytics) (2021.1)\n",
      "Requirement already satisfied: python-dateutil>=2.7.3 in c:\\users\\pavan sai.k\\anaconda3\\lib\\site-packages (from pandas>=1.0.2->lingualytics) (2.8.1)\n",
      "Requirement already satisfied: six>=1.5 in c:\\users\\pavan sai.k\\anaconda3\\lib\\site-packages (from python-dateutil>=2.7.3->pandas>=1.0.2->lingualytics) (1.15.0)\n",
      "Requirement already satisfied: scipy>=0.19.1 in c:\\users\\pavan sai.k\\anaconda3\\lib\\site-packages (from scikit-learn>=0.22->lingualytics) (1.6.2)\n",
      "Requirement already satisfied: threadpoolctl>=2.0.0 in c:\\users\\pavan sai.k\\anaconda3\\lib\\site-packages (from scikit-learn>=0.22->lingualytics) (2.1.0)\n",
      "Requirement already satisfied: joblib>=0.11 in c:\\users\\pavan sai.k\\anaconda3\\lib\\site-packages (from scikit-learn>=0.22->lingualytics) (1.0.1)\n",
      "Requirement already satisfied: spacy<3.0.0 in c:\\users\\pavan sai.k\\anaconda3\\lib\\site-packages (from texthero>=1.0->lingualytics) (2.3.7)\n",
      "Requirement already satisfied: gensim<4.0,>=3.6.0 in c:\\users\\pavan sai.k\\anaconda3\\lib\\site-packages (from texthero>=1.0->lingualytics) (3.8.3)\n",
      "Requirement already satisfied: plotly>=4.2.0 in c:\\users\\pavan sai.k\\anaconda3\\lib\\site-packages (from texthero>=1.0->lingualytics) (5.3.1)\n",
      "Requirement already satisfied: matplotlib>=3.1.0 in c:\\users\\pavan sai.k\\anaconda3\\lib\\site-packages (from texthero>=1.0->lingualytics) (3.3.4)\n",
      "Requirement already satisfied: wordcloud>=1.5.0 in c:\\users\\pavan sai.k\\anaconda3\\lib\\site-packages (from texthero>=1.0->lingualytics) (1.8.1)\n",
      "Requirement already satisfied: nltk>=3.3 in c:\\users\\pavan sai.k\\anaconda3\\lib\\site-packages (from texthero>=1.0->lingualytics) (3.6.1)\n",
      "Requirement already satisfied: unidecode>=1.1.1 in c:\\users\\pavan sai.k\\anaconda3\\lib\\site-packages (from texthero>=1.0->lingualytics) (1.3.2)\n",
      "Requirement already satisfied: smart-open>=1.8.1 in c:\\users\\pavan sai.k\\anaconda3\\lib\\site-packages (from gensim<4.0,>=3.6.0->texthero>=1.0->lingualytics) (5.2.1)\n",
      "Requirement already satisfied: Cython==0.29.14 in c:\\users\\pavan sai.k\\anaconda3\\lib\\site-packages (from gensim<4.0,>=3.6.0->texthero>=1.0->lingualytics) (0.29.14)\n",
      "Requirement already satisfied: pillow>=6.2.0 in c:\\users\\pavan sai.k\\anaconda3\\lib\\site-packages (from matplotlib>=3.1.0->texthero>=1.0->lingualytics) (8.2.0)\n",
      "Requirement already satisfied: cycler>=0.10 in c:\\users\\pavan sai.k\\anaconda3\\lib\\site-packages (from matplotlib>=3.1.0->texthero>=1.0->lingualytics) (0.10.0)\n",
      "Requirement already satisfied: kiwisolver>=1.0.1 in c:\\users\\pavan sai.k\\anaconda3\\lib\\site-packages (from matplotlib>=3.1.0->texthero>=1.0->lingualytics) (1.3.1)\n",
      "Requirement already satisfied: pyparsing!=2.0.4,!=2.1.2,!=2.1.6,>=2.0.3 in c:\\users\\pavan sai.k\\anaconda3\\lib\\site-packages (from matplotlib>=3.1.0->texthero>=1.0->lingualytics) (2.4.7)\n",
      "Requirement already satisfied: regex in c:\\users\\pavan sai.k\\anaconda3\\lib\\site-packages (from nltk>=3.3->texthero>=1.0->lingualytics) (2021.4.4)\n",
      "Requirement already satisfied: click in c:\\users\\pavan sai.k\\anaconda3\\lib\\site-packages (from nltk>=3.3->texthero>=1.0->lingualytics) (7.1.2)\n",
      "Requirement already satisfied: tenacity>=6.2.0 in c:\\users\\pavan sai.k\\anaconda3\\lib\\site-packages (from plotly>=4.2.0->texthero>=1.0->lingualytics) (8.0.1)\n",
      "Requirement already satisfied: requests<3.0.0,>=2.13.0 in c:\\users\\pavan sai.k\\anaconda3\\lib\\site-packages (from spacy<3.0.0->texthero>=1.0->lingualytics) (2.25.1)\n",
      "Requirement already satisfied: srsly<1.1.0,>=1.0.2 in c:\\users\\pavan sai.k\\anaconda3\\lib\\site-packages (from spacy<3.0.0->texthero>=1.0->lingualytics) (1.0.5)\n",
      "Requirement already satisfied: thinc<7.5.0,>=7.4.1 in c:\\users\\pavan sai.k\\anaconda3\\lib\\site-packages (from spacy<3.0.0->texthero>=1.0->lingualytics) (7.4.5)\n",
      "Requirement already satisfied: wasabi<1.1.0,>=0.4.0 in c:\\users\\pavan sai.k\\anaconda3\\lib\\site-packages (from spacy<3.0.0->texthero>=1.0->lingualytics) (0.8.2)\n",
      "Requirement already satisfied: preshed<3.1.0,>=3.0.2 in c:\\users\\pavan sai.k\\anaconda3\\lib\\site-packages (from spacy<3.0.0->texthero>=1.0->lingualytics) (3.0.5)\n",
      "Requirement already satisfied: plac<1.2.0,>=0.9.6 in c:\\users\\pavan sai.k\\anaconda3\\lib\\site-packages (from spacy<3.0.0->texthero>=1.0->lingualytics) (1.1.3)\n",
      "Requirement already satisfied: cymem<2.1.0,>=2.0.2 in c:\\users\\pavan sai.k\\anaconda3\\lib\\site-packages (from spacy<3.0.0->texthero>=1.0->lingualytics) (2.0.5)\n",
      "Requirement already satisfied: setuptools in c:\\users\\pavan sai.k\\anaconda3\\lib\\site-packages (from spacy<3.0.0->texthero>=1.0->lingualytics) (52.0.0.post20210125)\n",
      "Requirement already satisfied: catalogue<1.1.0,>=0.0.7 in c:\\users\\pavan sai.k\\anaconda3\\lib\\site-packages (from spacy<3.0.0->texthero>=1.0->lingualytics) (1.0.0)\n",
      "Requirement already satisfied: blis<0.8.0,>=0.4.0 in c:\\users\\pavan sai.k\\anaconda3\\lib\\site-packages (from spacy<3.0.0->texthero>=1.0->lingualytics) (0.7.4)\n",
      "Requirement already satisfied: murmurhash<1.1.0,>=0.28.0 in c:\\users\\pavan sai.k\\anaconda3\\lib\\site-packages (from spacy<3.0.0->texthero>=1.0->lingualytics) (1.0.5)\n",
      "Requirement already satisfied: idna<3,>=2.5 in c:\\users\\pavan sai.k\\anaconda3\\lib\\site-packages (from requests<3.0.0,>=2.13.0->spacy<3.0.0->texthero>=1.0->lingualytics) (2.10)\n",
      "Requirement already satisfied: chardet<5,>=3.0.2 in c:\\users\\pavan sai.k\\anaconda3\\lib\\site-packages (from requests<3.0.0,>=2.13.0->spacy<3.0.0->texthero>=1.0->lingualytics) (4.0.0)\n",
      "Requirement already satisfied: urllib3<1.27,>=1.21.1 in c:\\users\\pavan sai.k\\anaconda3\\lib\\site-packages (from requests<3.0.0,>=2.13.0->spacy<3.0.0->texthero>=1.0->lingualytics) (1.26.4)\n",
      "Requirement already satisfied: certifi>=2017.4.17 in c:\\users\\pavan sai.k\\anaconda3\\lib\\site-packages (from requests<3.0.0,>=2.13.0->spacy<3.0.0->texthero>=1.0->lingualytics) (2020.12.5)\n",
      "Requirement already satisfied: typing-extensions in c:\\users\\pavan sai.k\\anaconda3\\lib\\site-packages (from torch>=1.6->lingualytics) (3.7.4.3)\n",
      "Requirement already satisfied: huggingface-hub>=0.0.17 in c:\\users\\pavan sai.k\\anaconda3\\lib\\site-packages (from transformers>=3.0->lingualytics) (0.0.17)\n",
      "Requirement already satisfied: packaging>=20.0 in c:\\users\\pavan sai.k\\anaconda3\\lib\\site-packages (from transformers>=3.0->lingualytics) (20.9)\n",
      "Requirement already satisfied: sacremoses in c:\\users\\pavan sai.k\\anaconda3\\lib\\site-packages (from transformers>=3.0->lingualytics) (0.0.46)\n",
      "Requirement already satisfied: tokenizers<0.11,>=0.10.1 in c:\\users\\pavan sai.k\\anaconda3\\lib\\site-packages (from transformers>=3.0->lingualytics) (0.10.3)\n",
      "Requirement already satisfied: pyyaml>=5.1 in c:\\users\\pavan sai.k\\anaconda3\\lib\\site-packages (from transformers>=3.0->lingualytics) (5.4.1)\n",
      "Requirement already satisfied: filelock in c:\\users\\pavan sai.k\\anaconda3\\lib\\site-packages (from transformers>=3.0->lingualytics) (3.0.12)\n"
     ]
    }
   ],
   "source": [
    "!pip install lingualytics"
   ]
  },
  {
   "cell_type": "code",
   "execution_count": 3,
   "id": "958aab11",
   "metadata": {},
   "outputs": [
    {
     "name": "stdout",
     "output_type": "stream",
     "text": [
      "Pavan\n"
     ]
    }
   ],
   "source": [
    "print(\"Pavan\")"
   ]
  },
  {
   "cell_type": "code",
   "execution_count": 4,
   "id": "96486a0a",
   "metadata": {},
   "outputs": [
    {
     "name": "stdout",
     "output_type": "stream",
     "text": [
      "Requirement already satisfied: pandas in c:\\users\\pavan sai.k\\anaconda3\\lib\\site-packages (1.2.4)\n",
      "Requirement already satisfied: pytz>=2017.3 in c:\\users\\pavan sai.k\\anaconda3\\lib\\site-packages (from pandas) (2021.1)\n",
      "Requirement already satisfied: python-dateutil>=2.7.3 in c:\\users\\pavan sai.k\\anaconda3\\lib\\site-packages (from pandas) (2.8.1)\n",
      "Requirement already satisfied: numpy>=1.16.5 in c:\\users\\pavan sai.k\\anaconda3\\lib\\site-packages (from pandas) (1.20.1)\n",
      "Requirement already satisfied: six>=1.5 in c:\\users\\pavan sai.k\\anaconda3\\lib\\site-packages (from python-dateutil>=2.7.3->pandas) (1.15.0)\n"
     ]
    }
   ],
   "source": [
    "!pip install pandas"
   ]
  },
  {
   "cell_type": "code",
   "execution_count": 5,
   "id": "98a4626f",
   "metadata": {},
   "outputs": [],
   "source": [
    "import numpy as np"
   ]
  },
  {
   "cell_type": "code",
   "execution_count": 6,
   "id": "fffb0990",
   "metadata": {},
   "outputs": [],
   "source": [
    "from lingualytics.preprocessing import remove_lessthan, remove_punctuation, remove_stopwords\n",
    "from lingualytics.stopwords import hi_stopwords,en_stopwords\n",
    "from texthero.preprocessing import remove_digits\n",
    "import pandas as pd"
   ]
  },
  {
   "cell_type": "code",
   "execution_count": 63,
   "id": "1c1d732e",
   "metadata": {},
   "outputs": [],
   "source": [
    "DATASET = \"E:\\Bobby\\pk.xlsx\""
   ]
  },
  {
   "cell_type": "code",
   "execution_count": 66,
   "id": "6c2459f5",
   "metadata": {},
   "outputs": [
    {
     "data": {
      "text/html": [
       "<div>\n",
       "<style scoped>\n",
       "    .dataframe tbody tr th:only-of-type {\n",
       "        vertical-align: middle;\n",
       "    }\n",
       "\n",
       "    .dataframe tbody tr th {\n",
       "        vertical-align: top;\n",
       "    }\n",
       "\n",
       "    .dataframe thead th {\n",
       "        text-align: right;\n",
       "    }\n",
       "</style>\n",
       "<table border=\"1\" class=\"dataframe\">\n",
       "  <thead>\n",
       "    <tr style=\"text-align: right;\">\n",
       "      <th></th>\n",
       "      <th>Q</th>\n",
       "      <th>A</th>\n",
       "    </tr>\n",
       "  </thead>\n",
       "  <tbody>\n",
       "    <tr>\n",
       "      <th>0</th>\n",
       "      <td>What is kandi?</td>\n",
       "      <td>kandi (pronounced kan·dee) is a platform that ...</td>\n",
       "    </tr>\n",
       "    <tr>\n",
       "      <th>1</th>\n",
       "      <td>Have feedback or want to know more?</td>\n",
       "      <td>We are a passionate set of application focused...</td>\n",
       "    </tr>\n",
       "    <tr>\n",
       "      <th>2</th>\n",
       "      <td>What components does kandi cover?</td>\n",
       "      <td>kandi helps you select software components acr...</td>\n",
       "    </tr>\n",
       "    <tr>\n",
       "      <th>3</th>\n",
       "      <td>How do I use kandi?</td>\n",
       "      <td>kandi provides two simplified experiences to h...</td>\n",
       "    </tr>\n",
       "    <tr>\n",
       "      <th>4</th>\n",
       "      <td>How do I shortlist components on kandi?</td>\n",
       "      <td>You can use the below filters to shortlist com...</td>\n",
       "    </tr>\n",
       "    <tr>\n",
       "      <th>5</th>\n",
       "      <td>How do I implement the components that I have ...</td>\n",
       "      <td>The component listing and detailed insights pa...</td>\n",
       "    </tr>\n",
       "  </tbody>\n",
       "</table>\n",
       "</div>"
      ],
      "text/plain": [
       "                                                   Q  \\\n",
       "0                                     What is kandi?   \n",
       "1                Have feedback or want to know more?   \n",
       "2                  What components does kandi cover?   \n",
       "3                                How do I use kandi?   \n",
       "4            How do I shortlist components on kandi?   \n",
       "5  How do I implement the components that I have ...   \n",
       "\n",
       "                                                   A  \n",
       "0  kandi (pronounced kan·dee) is a platform that ...  \n",
       "1  We are a passionate set of application focused...  \n",
       "2  kandi helps you select software components acr...  \n",
       "3  kandi provides two simplified experiences to h...  \n",
       "4  You can use the below filters to shortlist com...  \n",
       "5  The component listing and detailed insights pa...  "
      ]
     },
     "execution_count": 66,
     "metadata": {},
     "output_type": "execute_result"
    }
   ],
   "source": [
    "df=pd.read_excel(DATASET)\n",
    "df"
   ]
  },
  {
   "cell_type": "code",
   "execution_count": 70,
   "id": "aa68982e",
   "metadata": {},
   "outputs": [
    {
     "name": "stderr",
     "output_type": "stream",
     "text": [
      "C:\\Users\\Pavan Sai.K\\anaconda3\\lib\\site-packages\\lingualytics\\preprocessing.py:9: FutureWarning: The default value of regex will change from True to False in a future version.\n",
      "  return s.str.replace(rf\"([{punctuation}])+\", \" \")\n"
     ]
    }
   ],
   "source": [
    "df['clean_Q'] = df['Q'].pipe(remove_digits) \\\n",
    "                                    .pipe(remove_punctuation) "
   ]
  },
  {
   "cell_type": "code",
   "execution_count": 71,
   "id": "e97867fb",
   "metadata": {},
   "outputs": [
    {
     "data": {
      "text/html": [
       "<div>\n",
       "<style scoped>\n",
       "    .dataframe tbody tr th:only-of-type {\n",
       "        vertical-align: middle;\n",
       "    }\n",
       "\n",
       "    .dataframe tbody tr th {\n",
       "        vertical-align: top;\n",
       "    }\n",
       "\n",
       "    .dataframe thead th {\n",
       "        text-align: right;\n",
       "    }\n",
       "</style>\n",
       "<table border=\"1\" class=\"dataframe\">\n",
       "  <thead>\n",
       "    <tr style=\"text-align: right;\">\n",
       "      <th></th>\n",
       "      <th>Q</th>\n",
       "      <th>A</th>\n",
       "      <th>clean_Q</th>\n",
       "    </tr>\n",
       "  </thead>\n",
       "  <tbody>\n",
       "    <tr>\n",
       "      <th>0</th>\n",
       "      <td>What is kandi?</td>\n",
       "      <td>kandi (pronounced kan·dee) is a platform that ...</td>\n",
       "      <td>What is kandi</td>\n",
       "    </tr>\n",
       "    <tr>\n",
       "      <th>1</th>\n",
       "      <td>Have feedback or want to know more?</td>\n",
       "      <td>We are a passionate set of application focused...</td>\n",
       "      <td>Have feedback or want to know more</td>\n",
       "    </tr>\n",
       "    <tr>\n",
       "      <th>2</th>\n",
       "      <td>What components does kandi cover?</td>\n",
       "      <td>kandi helps you select software components acr...</td>\n",
       "      <td>What components does kandi cover</td>\n",
       "    </tr>\n",
       "    <tr>\n",
       "      <th>3</th>\n",
       "      <td>How do I use kandi?</td>\n",
       "      <td>kandi provides two simplified experiences to h...</td>\n",
       "      <td>How do I use kandi</td>\n",
       "    </tr>\n",
       "    <tr>\n",
       "      <th>4</th>\n",
       "      <td>How do I shortlist components on kandi?</td>\n",
       "      <td>You can use the below filters to shortlist com...</td>\n",
       "      <td>How do I shortlist components on kandi</td>\n",
       "    </tr>\n",
       "    <tr>\n",
       "      <th>5</th>\n",
       "      <td>How do I implement the components that I have ...</td>\n",
       "      <td>The component listing and detailed insights pa...</td>\n",
       "      <td>How do I implement the components that I have ...</td>\n",
       "    </tr>\n",
       "  </tbody>\n",
       "</table>\n",
       "</div>"
      ],
      "text/plain": [
       "                                                   Q  \\\n",
       "0                                     What is kandi?   \n",
       "1                Have feedback or want to know more?   \n",
       "2                  What components does kandi cover?   \n",
       "3                                How do I use kandi?   \n",
       "4            How do I shortlist components on kandi?   \n",
       "5  How do I implement the components that I have ...   \n",
       "\n",
       "                                                   A  \\\n",
       "0  kandi (pronounced kan·dee) is a platform that ...   \n",
       "1  We are a passionate set of application focused...   \n",
       "2  kandi helps you select software components acr...   \n",
       "3  kandi provides two simplified experiences to h...   \n",
       "4  You can use the below filters to shortlist com...   \n",
       "5  The component listing and detailed insights pa...   \n",
       "\n",
       "                                             clean_Q  \n",
       "0                                     What is kandi   \n",
       "1                Have feedback or want to know more   \n",
       "2                  What components does kandi cover   \n",
       "3                                How do I use kandi   \n",
       "4            How do I shortlist components on kandi   \n",
       "5  How do I implement the components that I have ...  "
      ]
     },
     "execution_count": 71,
     "metadata": {},
     "output_type": "execute_result"
    }
   ],
   "source": [
    "df"
   ]
  },
  {
   "cell_type": "code",
   "execution_count": 72,
   "id": "07802874",
   "metadata": {},
   "outputs": [
    {
     "name": "stdout",
     "output_type": "stream",
     "text": [
      "Collecting sentence-transformers\n",
      "  Downloading sentence-transformers-2.1.0.tar.gz (78 kB)\n",
      "Requirement already satisfied: transformers<5.0.0,>=4.6.0 in c:\\users\\pavan sai.k\\anaconda3\\lib\\site-packages (from sentence-transformers) (4.11.2)\n",
      "Requirement already satisfied: tokenizers>=0.10.3 in c:\\users\\pavan sai.k\\anaconda3\\lib\\site-packages (from sentence-transformers) (0.10.3)\n",
      "Requirement already satisfied: tqdm in c:\\users\\pavan sai.k\\anaconda3\\lib\\site-packages (from sentence-transformers) (4.59.0)\n",
      "Requirement already satisfied: torch>=1.6.0 in c:\\users\\pavan sai.k\\anaconda3\\lib\\site-packages (from sentence-transformers) (1.9.1)\n",
      "Collecting torchvision\n",
      "  Downloading torchvision-0.10.1-cp38-cp38-win_amd64.whl (936 kB)\n",
      "Requirement already satisfied: numpy in c:\\users\\pavan sai.k\\anaconda3\\lib\\site-packages (from sentence-transformers) (1.20.1)\n",
      "Requirement already satisfied: scikit-learn in c:\\users\\pavan sai.k\\anaconda3\\lib\\site-packages (from sentence-transformers) (0.24.1)\n",
      "Requirement already satisfied: scipy in c:\\users\\pavan sai.k\\anaconda3\\lib\\site-packages (from sentence-transformers) (1.6.2)\n",
      "Requirement already satisfied: nltk in c:\\users\\pavan sai.k\\anaconda3\\lib\\site-packages (from sentence-transformers) (3.6.1)\n",
      "Collecting sentencepiece\n",
      "  Downloading sentencepiece-0.1.96-cp38-cp38-win_amd64.whl (1.1 MB)\n",
      "Requirement already satisfied: huggingface-hub in c:\\users\\pavan sai.k\\anaconda3\\lib\\site-packages (from sentence-transformers) (0.0.17)\n",
      "Requirement already satisfied: typing-extensions in c:\\users\\pavan sai.k\\anaconda3\\lib\\site-packages (from torch>=1.6.0->sentence-transformers) (3.7.4.3)\n",
      "Requirement already satisfied: filelock in c:\\users\\pavan sai.k\\anaconda3\\lib\\site-packages (from transformers<5.0.0,>=4.6.0->sentence-transformers) (3.0.12)\n",
      "Requirement already satisfied: pyyaml>=5.1 in c:\\users\\pavan sai.k\\anaconda3\\lib\\site-packages (from transformers<5.0.0,>=4.6.0->sentence-transformers) (5.4.1)\n",
      "Requirement already satisfied: regex!=2019.12.17 in c:\\users\\pavan sai.k\\anaconda3\\lib\\site-packages (from transformers<5.0.0,>=4.6.0->sentence-transformers) (2021.4.4)\n",
      "Requirement already satisfied: requests in c:\\users\\pavan sai.k\\anaconda3\\lib\\site-packages (from transformers<5.0.0,>=4.6.0->sentence-transformers) (2.25.1)\n",
      "Requirement already satisfied: packaging>=20.0 in c:\\users\\pavan sai.k\\anaconda3\\lib\\site-packages (from transformers<5.0.0,>=4.6.0->sentence-transformers) (20.9)\n",
      "Requirement already satisfied: sacremoses in c:\\users\\pavan sai.k\\anaconda3\\lib\\site-packages (from transformers<5.0.0,>=4.6.0->sentence-transformers) (0.0.46)\n",
      "Requirement already satisfied: pyparsing>=2.0.2 in c:\\users\\pavan sai.k\\anaconda3\\lib\\site-packages (from packaging>=20.0->transformers<5.0.0,>=4.6.0->sentence-transformers) (2.4.7)\n",
      "Requirement already satisfied: joblib in c:\\users\\pavan sai.k\\anaconda3\\lib\\site-packages (from nltk->sentence-transformers) (1.0.1)\n",
      "Requirement already satisfied: click in c:\\users\\pavan sai.k\\anaconda3\\lib\\site-packages (from nltk->sentence-transformers) (7.1.2)\n",
      "Requirement already satisfied: urllib3<1.27,>=1.21.1 in c:\\users\\pavan sai.k\\anaconda3\\lib\\site-packages (from requests->transformers<5.0.0,>=4.6.0->sentence-transformers) (1.26.4)\n",
      "Requirement already satisfied: idna<3,>=2.5 in c:\\users\\pavan sai.k\\anaconda3\\lib\\site-packages (from requests->transformers<5.0.0,>=4.6.0->sentence-transformers) (2.10)\n",
      "Requirement already satisfied: certifi>=2017.4.17 in c:\\users\\pavan sai.k\\anaconda3\\lib\\site-packages (from requests->transformers<5.0.0,>=4.6.0->sentence-transformers) (2020.12.5)\n",
      "Requirement already satisfied: chardet<5,>=3.0.2 in c:\\users\\pavan sai.k\\anaconda3\\lib\\site-packages (from requests->transformers<5.0.0,>=4.6.0->sentence-transformers) (4.0.0)\n",
      "Requirement already satisfied: six in c:\\users\\pavan sai.k\\anaconda3\\lib\\site-packages (from sacremoses->transformers<5.0.0,>=4.6.0->sentence-transformers) (1.15.0)\n",
      "Requirement already satisfied: threadpoolctl>=2.0.0 in c:\\users\\pavan sai.k\\anaconda3\\lib\\site-packages (from scikit-learn->sentence-transformers) (2.1.0)\n",
      "Requirement already satisfied: pillow>=5.3.0 in c:\\users\\pavan sai.k\\anaconda3\\lib\\site-packages (from torchvision->sentence-transformers) (8.2.0)\n",
      "Building wheels for collected packages: sentence-transformers\n",
      "  Building wheel for sentence-transformers (setup.py): started\n",
      "  Building wheel for sentence-transformers (setup.py): finished with status 'done'\n",
      "  Created wheel for sentence-transformers: filename=sentence_transformers-2.1.0-py3-none-any.whl size=120999 sha256=2f25defa0712392d333b0f304732b4ecc8b863054d8d941b202bbe280e790ab4\n",
      "  Stored in directory: c:\\users\\pavan sai.k\\appdata\\local\\pip\\cache\\wheels\\52\\19\\88\\6625593382e23a926740e6fcee0f2df0a0de25766094842a28\n",
      "Successfully built sentence-transformers\n",
      "Installing collected packages: torchvision, sentencepiece, sentence-transformers\n",
      "Successfully installed sentence-transformers-2.1.0 sentencepiece-0.1.96 torchvision-0.10.1\n"
     ]
    }
   ],
   "source": [
    "!pip install -U sentence-transformers"
   ]
  },
  {
   "cell_type": "code",
   "execution_count": 74,
   "id": "d5b923a1",
   "metadata": {},
   "outputs": [
    {
     "name": "stdout",
     "output_type": "stream",
     "text": [
      "Name: sentence-transformers\n",
      "Version: 2.1.0\n",
      "Summary: Sentence Embeddings using BERT / RoBERTa / XLM-R\n",
      "Home-page: https://github.com/UKPLab/sentence-transformers\n",
      "Author: Nils Reimers\n",
      "Author-email: info@nils-reimers.de\n",
      "License: Apache License 2.0\n",
      "Location: c:\\users\\pavan sai.k\\anaconda3\\lib\\site-packages\n",
      "Requires: scikit-learn, huggingface-hub, sentencepiece, tqdm, numpy, tokenizers, torchvision, scipy, transformers, nltk, torch\n",
      "Required-by: \n"
     ]
    }
   ],
   "source": [
    "!pip show sentence-transformers"
   ]
  },
  {
   "cell_type": "code",
   "execution_count": 75,
   "id": "7af7a2a9",
   "metadata": {},
   "outputs": [
    {
     "data": {
      "application/vnd.jupyter.widget-view+json": {
       "model_id": "c62641564aae4cadbb512d816422e9f5",
       "version_major": 2,
       "version_minor": 0
      },
      "text/plain": [
       "Downloading:   0%|          | 0.00/690 [00:00<?, ?B/s]"
      ]
     },
     "metadata": {},
     "output_type": "display_data"
    },
    {
     "data": {
      "application/vnd.jupyter.widget-view+json": {
       "model_id": "5de39d4053044296b0f4fd2944cfd69b",
       "version_major": 2,
       "version_minor": 0
      },
      "text/plain": [
       "Downloading:   0%|          | 0.00/3.69k [00:00<?, ?B/s]"
      ]
     },
     "metadata": {},
     "output_type": "display_data"
    },
    {
     "data": {
      "application/vnd.jupyter.widget-view+json": {
       "model_id": "1e3854ce462d4c7f86b71de48d1c9092",
       "version_major": 2,
       "version_minor": 0
      },
      "text/plain": [
       "Downloading:   0%|          | 0.00/629 [00:00<?, ?B/s]"
      ]
     },
     "metadata": {},
     "output_type": "display_data"
    },
    {
     "data": {
      "application/vnd.jupyter.widget-view+json": {
       "model_id": "a19cf0241b084e3e8f092c84f3d0f0f7",
       "version_major": 2,
       "version_minor": 0
      },
      "text/plain": [
       "Downloading:   0%|          | 0.00/122 [00:00<?, ?B/s]"
      ]
     },
     "metadata": {},
     "output_type": "display_data"
    },
    {
     "data": {
      "application/vnd.jupyter.widget-view+json": {
       "model_id": "33555983e8ea4ce1819f6104fb55260c",
       "version_major": 2,
       "version_minor": 0
      },
      "text/plain": [
       "Downloading:   0%|          | 0.00/229 [00:00<?, ?B/s]"
      ]
     },
     "metadata": {},
     "output_type": "display_data"
    },
    {
     "data": {
      "application/vnd.jupyter.widget-view+json": {
       "model_id": "4b3b4f20f6a24d57ab92c46a0e34ca1a",
       "version_major": 2,
       "version_minor": 0
      },
      "text/plain": [
       "Downloading:   0%|          | 0.00/90.9M [00:00<?, ?B/s]"
      ]
     },
     "metadata": {},
     "output_type": "display_data"
    },
    {
     "data": {
      "application/vnd.jupyter.widget-view+json": {
       "model_id": "f8b26d6ba7944b96ab1569edd8e08c87",
       "version_major": 2,
       "version_minor": 0
      },
      "text/plain": [
       "Downloading:   0%|          | 0.00/53.0 [00:00<?, ?B/s]"
      ]
     },
     "metadata": {},
     "output_type": "display_data"
    },
    {
     "data": {
      "application/vnd.jupyter.widget-view+json": {
       "model_id": "d8bf5133fe184a82b11ea4310d04d748",
       "version_major": 2,
       "version_minor": 0
      },
      "text/plain": [
       "Downloading:   0%|          | 0.00/112 [00:00<?, ?B/s]"
      ]
     },
     "metadata": {},
     "output_type": "display_data"
    },
    {
     "data": {
      "application/vnd.jupyter.widget-view+json": {
       "model_id": "c7e4cb8f2ce647c3a192f8a18f7518ed",
       "version_major": 2,
       "version_minor": 0
      },
      "text/plain": [
       "Downloading:   0%|          | 0.00/466k [00:00<?, ?B/s]"
      ]
     },
     "metadata": {},
     "output_type": "display_data"
    },
    {
     "data": {
      "application/vnd.jupyter.widget-view+json": {
       "model_id": "3d4d5fd2931b498aa2fc9781e817135c",
       "version_major": 2,
       "version_minor": 0
      },
      "text/plain": [
       "Downloading:   0%|          | 0.00/314 [00:00<?, ?B/s]"
      ]
     },
     "metadata": {},
     "output_type": "display_data"
    },
    {
     "data": {
      "application/vnd.jupyter.widget-view+json": {
       "model_id": "b724d320592b4e4d86f2b4b2abd78de2",
       "version_major": 2,
       "version_minor": 0
      },
      "text/plain": [
       "Downloading:   0%|          | 0.00/232k [00:00<?, ?B/s]"
      ]
     },
     "metadata": {},
     "output_type": "display_data"
    },
    {
     "data": {
      "application/vnd.jupyter.widget-view+json": {
       "model_id": "ca30e136d2b7409f824ae47324ae2128",
       "version_major": 2,
       "version_minor": 0
      },
      "text/plain": [
       "Downloading:   0%|          | 0.00/190 [00:00<?, ?B/s]"
      ]
     },
     "metadata": {},
     "output_type": "display_data"
    }
   ],
   "source": [
    "from sentence_transformers import SentenceTransformer\n",
    "model = SentenceTransformer('paraphrase-MiniLM-L6-v2')"
   ]
  },
  {
   "cell_type": "code",
   "execution_count": 76,
   "id": "7a5b0a09",
   "metadata": {},
   "outputs": [
    {
     "name": "stderr",
     "output_type": "stream",
     "text": [
      "C:\\Users\\Pavan Sai.K\\anaconda3\\lib\\site-packages\\transformers\\tokenization_utils_base.py:2227: UserWarning: `max_length` is ignored when `padding`=`True`.\n",
      "  warnings.warn(\"`max_length` is ignored when `padding`=`True`.\")\n"
     ]
    }
   ],
   "source": [
    "q_embs = model.encode(df['clean_Q'], convert_to_tensor=True)"
   ]
  },
  {
   "cell_type": "code",
   "execution_count": 77,
   "id": "0c56d9df",
   "metadata": {},
   "outputs": [
    {
     "data": {
      "text/plain": [
       "torch.Size([6, 384])"
      ]
     },
     "execution_count": 77,
     "metadata": {},
     "output_type": "execute_result"
    }
   ],
   "source": [
    "q_embs.shape"
   ]
  },
  {
   "cell_type": "code",
   "execution_count": 78,
   "id": "d9b05ac9",
   "metadata": {},
   "outputs": [],
   "source": [
    "usr_query = \"tell me about kandi\""
   ]
  },
  {
   "cell_type": "code",
   "execution_count": 79,
   "id": "784f7d43",
   "metadata": {},
   "outputs": [
    {
     "data": {
      "text/html": [
       "<div>\n",
       "<style scoped>\n",
       "    .dataframe tbody tr th:only-of-type {\n",
       "        vertical-align: middle;\n",
       "    }\n",
       "\n",
       "    .dataframe tbody tr th {\n",
       "        vertical-align: top;\n",
       "    }\n",
       "\n",
       "    .dataframe thead th {\n",
       "        text-align: right;\n",
       "    }\n",
       "</style>\n",
       "<table border=\"1\" class=\"dataframe\">\n",
       "  <thead>\n",
       "    <tr style=\"text-align: right;\">\n",
       "      <th></th>\n",
       "      <th>usr_query</th>\n",
       "    </tr>\n",
       "  </thead>\n",
       "  <tbody>\n",
       "    <tr>\n",
       "      <th>0</th>\n",
       "      <td>tell me about kandi</td>\n",
       "    </tr>\n",
       "  </tbody>\n",
       "</table>\n",
       "</div>"
      ],
      "text/plain": [
       "             usr_query\n",
       "0  tell me about kandi"
      ]
     },
     "execution_count": 79,
     "metadata": {},
     "output_type": "execute_result"
    }
   ],
   "source": [
    "df_usr_query = pd.DataFrame([usr_query], columns=[\"usr_query\"])\n",
    "df_usr_query"
   ]
  },
  {
   "cell_type": "code",
   "execution_count": 80,
   "id": "c1604967",
   "metadata": {},
   "outputs": [
    {
     "name": "stderr",
     "output_type": "stream",
     "text": [
      "C:\\Users\\Pavan Sai.K\\anaconda3\\lib\\site-packages\\lingualytics\\preprocessing.py:9: FutureWarning: The default value of regex will change from True to False in a future version.\n",
      "  return s.str.replace(rf\"([{punctuation}])+\", \" \")\n"
     ]
    },
    {
     "data": {
      "text/html": [
       "<div>\n",
       "<style scoped>\n",
       "    .dataframe tbody tr th:only-of-type {\n",
       "        vertical-align: middle;\n",
       "    }\n",
       "\n",
       "    .dataframe tbody tr th {\n",
       "        vertical-align: top;\n",
       "    }\n",
       "\n",
       "    .dataframe thead th {\n",
       "        text-align: right;\n",
       "    }\n",
       "</style>\n",
       "<table border=\"1\" class=\"dataframe\">\n",
       "  <thead>\n",
       "    <tr style=\"text-align: right;\">\n",
       "      <th></th>\n",
       "      <th>usr_query</th>\n",
       "      <th>clean_usr_Q</th>\n",
       "    </tr>\n",
       "  </thead>\n",
       "  <tbody>\n",
       "    <tr>\n",
       "      <th>0</th>\n",
       "      <td>tell me about kandi</td>\n",
       "      <td>tell me about kandi</td>\n",
       "    </tr>\n",
       "  </tbody>\n",
       "</table>\n",
       "</div>"
      ],
      "text/plain": [
       "             usr_query          clean_usr_Q\n",
       "0  tell me about kandi  tell me about kandi"
      ]
     },
     "execution_count": 80,
     "metadata": {},
     "output_type": "execute_result"
    }
   ],
   "source": [
    "df_usr_query['clean_usr_Q'] = df_usr_query['usr_query'].pipe(remove_digits) \\\n",
    "                                    .pipe(remove_punctuation) \n",
    "df_usr_query"
   ]
  },
  {
   "cell_type": "code",
   "execution_count": 81,
   "id": "786fb2f4",
   "metadata": {},
   "outputs": [
    {
     "name": "stderr",
     "output_type": "stream",
     "text": [
      "C:\\Users\\Pavan Sai.K\\anaconda3\\lib\\site-packages\\transformers\\tokenization_utils_base.py:2227: UserWarning: `max_length` is ignored when `padding`=`True`.\n",
      "  warnings.warn(\"`max_length` is ignored when `padding`=`True`.\")\n"
     ]
    },
    {
     "data": {
      "text/plain": [
       "torch.Size([1, 384])"
      ]
     },
     "execution_count": 81,
     "metadata": {},
     "output_type": "execute_result"
    }
   ],
   "source": [
    "usr_q_emb = model.encode(df_usr_query['clean_usr_Q'], convert_to_tensor=True)\n",
    "usr_q_emb.shape"
   ]
  },
  {
   "cell_type": "code",
   "execution_count": 82,
   "id": "3fd43f58",
   "metadata": {},
   "outputs": [],
   "source": [
    "import torch"
   ]
  },
  {
   "cell_type": "code",
   "execution_count": 83,
   "id": "8d79d150",
   "metadata": {},
   "outputs": [],
   "source": [
    "cos_fn = torch.nn.CosineSimilarity(dim=1,eps=1e-6)"
   ]
  },
  {
   "cell_type": "code",
   "execution_count": 86,
   "id": "b55321a5",
   "metadata": {},
   "outputs": [],
   "source": [
    "idx = np.argmax(cos_fn(usr_q_emb,q_embs)).item()"
   ]
  },
  {
   "cell_type": "code",
   "execution_count": 87,
   "id": "0f6d75d5",
   "metadata": {},
   "outputs": [
    {
     "data": {
      "text/plain": [
       "'kandi (pronounced kan·dee) is a platform that helps developers pick the right library, package, code samples, APIs, and cloud functions, by analyzing over 430 million knowledge items.'"
      ]
     },
     "execution_count": 87,
     "metadata": {},
     "output_type": "execute_result"
    }
   ],
   "source": [
    "df['A'][idx]"
   ]
  },
  {
   "cell_type": "code",
   "execution_count": 88,
   "id": "2c5beeda",
   "metadata": {},
   "outputs": [],
   "source": [
    "def pred_answer(usr_query):\n",
    "    df_usr_query = pd.DataFrame([usr_query], columns=[\"usr_query\"])\n",
    "    df_usr_query['clean_usr_Q'] = df_usr_query['usr_query'].pipe(remove_digits) \\\n",
    "                                    .pipe(remove_punctuation) \n",
    "    usr_q_emb = model.encode(df_usr_query['clean_usr_Q'], convert_to_tensor=True)\n",
    "    cos_fn = torch.nn.CosineSimilarity(dim=1,eps=1e-6)\n",
    "    idx = np.argmax(cos_fn(usr_q_emb,q_embs)).item()\n",
    "    return df['A'][idx]"
   ]
  },
  {
   "cell_type": "code",
   "execution_count": 90,
   "id": "28d6aa8a",
   "metadata": {},
   "outputs": [
    {
     "name": "stdout",
     "output_type": "stream",
     "text": [
      "Ask a query: tell me about kandi\n",
      "kandi (pronounced kan·dee) is a platform that helps developers pick the right library, package, code samples, APIs, and cloud functions, by analyzing over 430 million knowledge items.\n",
      "-----------------------------------------------\n",
      "Ask a query: I want to know more\n",
      "We are a passionate set of application focused techies. We’d love to hear from you on your feedback, questions, and any other comments.\n",
      "Direct Message us on Twitter Message @OpenWeaverInc\n",
      "You can email us at kandi.support@openweaver.com\n",
      "Join our Discord community here\n",
      "-----------------------------------------------\n",
      "Ask a query: exit\n"
     ]
    }
   ],
   "source": [
    "while True:\n",
    "    usr_query = input(\"Ask a query: \")\n",
    "    if usr_query == \"exit\":\n",
    "        break\n",
    "    else:\n",
    "        print(pred_answer(usr_query))\n",
    "        print(\"-----------------------------------------------\")"
   ]
  },
  {
   "cell_type": "code",
   "execution_count": null,
   "id": "1e4b45cb",
   "metadata": {},
   "outputs": [],
   "source": []
  }
 ],
 "metadata": {
  "kernelspec": {
   "display_name": "Python 3",
   "language": "python",
   "name": "python3"
  },
  "language_info": {
   "codemirror_mode": {
    "name": "ipython",
    "version": 3
   },
   "file_extension": ".py",
   "mimetype": "text/x-python",
   "name": "python",
   "nbconvert_exporter": "python",
   "pygments_lexer": "ipython3",
   "version": "3.8.8"
  }
 },
 "nbformat": 4,
 "nbformat_minor": 5
}
